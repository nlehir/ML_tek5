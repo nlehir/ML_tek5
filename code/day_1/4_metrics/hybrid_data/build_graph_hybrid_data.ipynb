{
 "cells": [
  {
   "cell_type": "code",
   "execution_count": 3,
   "metadata": {},
   "outputs": [],
   "source": [
    "import math\n",
    "import numpy as np\n",
    "import pylab as pl\n",
    "import matplotlib.pyplot as plt\n",
    "import pandas as pd\n",
    "from IPython import display\n",
    "from graphviz import Graph"
   ]
  },
  {
   "cell_type": "code",
   "execution_count": 4,
   "metadata": {},
   "outputs": [],
   "source": [
    "dataframe = pd.read_csv(\"csv_files/complex_data.csv\")"
   ]
  },
  {
   "cell_type": "code",
   "execution_count": 5,
   "metadata": {},
   "outputs": [
    {
     "data": {
      "text/html": [
       "<div>\n",
       "<style scoped>\n",
       "    .dataframe tbody tr th:only-of-type {\n",
       "        vertical-align: middle;\n",
       "    }\n",
       "\n",
       "    .dataframe tbody tr th {\n",
       "        vertical-align: top;\n",
       "    }\n",
       "\n",
       "    .dataframe thead th {\n",
       "        text-align: right;\n",
       "    }\n",
       "</style>\n",
       "<table border=\"1\" class=\"dataframe\">\n",
       "  <thead>\n",
       "    <tr style=\"text-align: right;\">\n",
       "      <th></th>\n",
       "      <th>Name</th>\n",
       "      <th>Fifa note</th>\n",
       "      <th>speed</th>\n",
       "      <th>favorite meal</th>\n",
       "    </tr>\n",
       "  </thead>\n",
       "  <tbody>\n",
       "    <tr>\n",
       "      <th>0</th>\n",
       "      <td>Toni Kroos</td>\n",
       "      <td>90</td>\n",
       "      <td>80</td>\n",
       "      <td>pasta</td>\n",
       "    </tr>\n",
       "    <tr>\n",
       "      <th>1</th>\n",
       "      <td>David De Gea</td>\n",
       "      <td>91</td>\n",
       "      <td>70</td>\n",
       "      <td>fries</td>\n",
       "    </tr>\n",
       "    <tr>\n",
       "      <th>2</th>\n",
       "      <td>Sergio Ramos</td>\n",
       "      <td>91</td>\n",
       "      <td>75</td>\n",
       "      <td>pasta</td>\n",
       "    </tr>\n",
       "    <tr>\n",
       "      <th>3</th>\n",
       "      <td>Kikyan Mbappé</td>\n",
       "      <td>100</td>\n",
       "      <td>100</td>\n",
       "      <td>fries</td>\n",
       "    </tr>\n",
       "    <tr>\n",
       "      <th>4</th>\n",
       "      <td>Mohammed Salah</td>\n",
       "      <td>88</td>\n",
       "      <td>95</td>\n",
       "      <td>pasta</td>\n",
       "    </tr>\n",
       "    <tr>\n",
       "      <th>5</th>\n",
       "      <td>Mats Hummels</td>\n",
       "      <td>89</td>\n",
       "      <td>73</td>\n",
       "      <td>vegetables</td>\n",
       "    </tr>\n",
       "  </tbody>\n",
       "</table>\n",
       "</div>"
      ],
      "text/plain": [
       "             Name  Fifa note  speed favorite meal\n",
       "0      Toni Kroos         90     80         pasta\n",
       "1    David De Gea         91     70         fries\n",
       "2    Sergio Ramos         91     75         pasta\n",
       "3   Kikyan Mbappé        100    100         fries\n",
       "4  Mohammed Salah         88     95         pasta\n",
       "5    Mats Hummels         89     73    vegetables"
      ]
     },
     "execution_count": 5,
     "metadata": {},
     "output_type": "execute_result"
    }
   ],
   "source": [
    "dataframe"
   ]
  },
  {
   "cell_type": "code",
   "execution_count": 6,
   "metadata": {},
   "outputs": [
    {
     "name": "stdout",
     "output_type": "stream",
     "text": [
      "6\n"
     ]
    }
   ],
   "source": [
    "nb_players = len(dataframe.index)\n",
    "print(nb_players)"
   ]
  },
  {
   "cell_type": "code",
   "execution_count": 7,
   "metadata": {},
   "outputs": [
    {
     "name": "stdout",
     "output_type": "stream",
     "text": [
      "<class 'pandas.core.frame.DataFrame'>\n",
      "RangeIndex: 6 entries, 0 to 5\n",
      "Data columns (total 4 columns):\n",
      " #   Column         Non-Null Count  Dtype \n",
      "---  ------         --------------  ----- \n",
      " 0   Name           6 non-null      object\n",
      " 1   Fifa note      6 non-null      int64 \n",
      " 2   speed          6 non-null      int64 \n",
      " 3   favorite meal  6 non-null      object\n",
      "dtypes: int64(2), object(2)\n",
      "memory usage: 324.0+ bytes\n",
      "None\n"
     ]
    }
   ],
   "source": [
    "print(dataframe.info())"
   ]
  },
  {
   "cell_type": "code",
   "execution_count": 8,
   "metadata": {},
   "outputs": [
    {
     "name": "stdout",
     "output_type": "stream",
     "text": [
      "Index(['Name', 'Fifa note', 'speed', 'favorite meal'], dtype='object')\n"
     ]
    }
   ],
   "source": [
    "print(dataframe.columns)"
   ]
  },
  {
   "cell_type": "code",
   "execution_count": 9,
   "metadata": {},
   "outputs": [
    {
     "name": "stdout",
     "output_type": "stream",
     "text": [
      "             Name  Fifa note  speed favorite meal\n",
      "0      Toni Kroos         90     80         pasta\n",
      "1    David De Gea         91     70         fries\n",
      "2    Sergio Ramos         91     75         pasta\n",
      "3   Kikyan Mbappé        100    100         fries\n",
      "4  Mohammed Salah         88     95         pasta\n",
      "5    Mats Hummels         89     73    vegetables\n"
     ]
    }
   ],
   "source": [
    "print(dataframe.head(10))"
   ]
  },
  {
   "cell_type": "code",
   "execution_count": 10,
   "metadata": {},
   "outputs": [
    {
     "name": "stdout",
     "output_type": "stream",
     "text": [
      "---\n",
      "all information on player 1\n",
      "---\n",
      "Name             David De Gea\n",
      "Fifa note                  91\n",
      "speed                      70\n",
      "favorite meal           fries\n",
      "Name: 1, dtype: object\n"
     ]
    }
   ],
   "source": [
    "player_id = 1\n",
    "print(f\"---\\nall information on player {player_id}\\n---\")\n",
    "print(dataframe.loc[player_id])"
   ]
  },
  {
   "cell_type": "code",
   "execution_count": 11,
   "metadata": {},
   "outputs": [],
   "source": [
    "def compute_dissimilarity(player_1_id, player_2_id):\n",
    "    \"\"\"\n",
    "        Compute  dissimilarity betwwen two players\n",
    "        based on their id.\n",
    "\n",
    "        The meal is not a quantitative attribute.\n",
    "        It is called a categorical variable.\n",
    "        We must handle it differently than quantitative\n",
    "        attributes.\n",
    "\n",
    "        Noe that the choice of the coefficients is arbitray\n",
    "        and should depend on the problem considered.\n",
    "    \"\"\"\n",
    "    player_1_note = dataframe.loc[player_1_id][1]\n",
    "    player_2_note = dataframe.loc[player_2_id][1]\n",
    "\n",
    "    player_1_speed = dataframe.loc[player_1_id][2]\n",
    "    player_2_speed = dataframe.loc[player_2_id][2]\n",
    "\n",
    "    player_1_meal = dataframe.loc[player_1_id][3]\n",
    "    player_2_meal = dataframe.loc[player_2_id][3]\n",
    "\n",
    "    if player_1_meal == player_2_meal:\n",
    "        dissimilarity_meal = 0\n",
    "    else:\n",
    "        dissimilarity_meal = 1\n",
    "\n",
    "    dissimilarity = math.sqrt(\n",
    "        (player_1_note-player_2_note)**2\n",
    "        + 12 * (player_1_speed-player_2_speed)**2\n",
    "        + 7 * dissimilarity_meal)\n",
    "\n",
    "    print(\"----\")\n",
    "    player_1_name = dataframe.loc[player_1_id][\"Name\"]\n",
    "    player_2_name = dataframe.loc[player_2_id][\"Name\"]\n",
    "    print(f\"plyr 1 {player_1_name}, plyr 2 {player_2_name}, dissimilarity: {dissimilarity}\")\n",
    "    return dissimilarity"
   ]
  },
  {
   "cell_type": "code",
   "execution_count": 12,
   "metadata": {},
   "outputs": [
    {
     "name": "stdout",
     "output_type": "stream",
     "text": [
      "compute dissimilarities\n",
      "----\n",
      "plyr 1 Toni Kroos, plyr 2 Toni Kroos, dissimilarity: 0.0\n",
      "----\n",
      "plyr 1 Toni Kroos, plyr 2 David De Gea, dissimilarity: 34.75629439396553\n",
      "----\n",
      "plyr 1 Toni Kroos, plyr 2 Sergio Ramos, dissimilarity: 17.349351572897472\n",
      "----\n",
      "plyr 1 Toni Kroos, plyr 2 Kikyan Mbappé, dissimilarity: 70.04998215560087\n",
      "----\n",
      "plyr 1 Toni Kroos, plyr 2 Mohammed Salah, dissimilarity: 52.0\n",
      "----\n",
      "plyr 1 Toni Kroos, plyr 2 Mats Hummels, dissimilarity: 24.413111231467404\n",
      "----\n",
      "plyr 1 David De Gea, plyr 2 Toni Kroos, dissimilarity: 34.75629439396553\n",
      "----\n",
      "plyr 1 David De Gea, plyr 2 David De Gea, dissimilarity: 0.0\n",
      "----\n",
      "plyr 1 David De Gea, plyr 2 Sergio Ramos, dissimilarity: 17.52141546793523\n",
      "----\n",
      "plyr 1 David De Gea, plyr 2 Kikyan Mbappé, dissimilarity: 104.31203190428226\n",
      "----\n",
      "plyr 1 David De Gea, plyr 2 Mohammed Salah, dissimilarity: 86.69486720677297\n",
      "----\n",
      "plyr 1 David De Gea, plyr 2 Mats Hummels, dissimilarity: 10.908712114635714\n",
      "----\n",
      "plyr 1 Sergio Ramos, plyr 2 Toni Kroos, dissimilarity: 17.349351572897472\n",
      "----\n",
      "plyr 1 Sergio Ramos, plyr 2 David De Gea, dissimilarity: 17.52141546793523\n",
      "----\n",
      "plyr 1 Sergio Ramos, plyr 2 Sergio Ramos, dissimilarity: 0.0\n",
      "----\n",
      "plyr 1 Sergio Ramos, plyr 2 Kikyan Mbappé, dissimilarity: 87.10912696153027\n",
      "----\n",
      "plyr 1 Sergio Ramos, plyr 2 Mohammed Salah, dissimilarity: 69.34695379034324\n",
      "----\n",
      "plyr 1 Sergio Ramos, plyr 2 Mats Hummels, dissimilarity: 7.681145747868608\n",
      "----\n",
      "plyr 1 Kikyan Mbappé, plyr 2 Toni Kroos, dissimilarity: 70.04998215560087\n",
      "----\n",
      "plyr 1 Kikyan Mbappé, plyr 2 David De Gea, dissimilarity: 104.31203190428226\n",
      "----\n",
      "plyr 1 Kikyan Mbappé, plyr 2 Sergio Ramos, dissimilarity: 87.10912696153027\n",
      "----\n",
      "plyr 1 Kikyan Mbappé, plyr 2 Kikyan Mbappé, dissimilarity: 0.0\n",
      "----\n",
      "plyr 1 Kikyan Mbappé, plyr 2 Mohammed Salah, dissimilarity: 21.236760581595302\n",
      "----\n",
      "plyr 1 Kikyan Mbappé, plyr 2 Mats Hummels, dissimilarity: 94.21252570651102\n",
      "----\n",
      "plyr 1 Mohammed Salah, plyr 2 Toni Kroos, dissimilarity: 52.0\n",
      "----\n",
      "plyr 1 Mohammed Salah, plyr 2 David De Gea, dissimilarity: 86.69486720677297\n",
      "----\n",
      "plyr 1 Mohammed Salah, plyr 2 Sergio Ramos, dissimilarity: 69.34695379034324\n",
      "----\n",
      "plyr 1 Mohammed Salah, plyr 2 Kikyan Mbappé, dissimilarity: 21.236760581595302\n",
      "----\n",
      "plyr 1 Mohammed Salah, plyr 2 Mohammed Salah, dissimilarity: 0.0\n",
      "----\n",
      "plyr 1 Mohammed Salah, plyr 2 Mats Hummels, dissimilarity: 76.26270385975047\n",
      "----\n",
      "plyr 1 Mats Hummels, plyr 2 Toni Kroos, dissimilarity: 24.413111231467404\n",
      "----\n",
      "plyr 1 Mats Hummels, plyr 2 David De Gea, dissimilarity: 10.908712114635714\n",
      "----\n",
      "plyr 1 Mats Hummels, plyr 2 Sergio Ramos, dissimilarity: 7.681145747868608\n",
      "----\n",
      "plyr 1 Mats Hummels, plyr 2 Kikyan Mbappé, dissimilarity: 94.21252570651102\n",
      "----\n",
      "plyr 1 Mats Hummels, plyr 2 Mohammed Salah, dissimilarity: 76.26270385975047\n",
      "----\n",
      "plyr 1 Mats Hummels, plyr 2 Mats Hummels, dissimilarity: 0.0\n",
      "dissimilarity matrix\n",
      "[[  0.          34.75629439  17.34935157  70.04998216  52.\n",
      "   24.41311123]\n",
      " [ 34.75629439   0.          17.52141547 104.3120319   86.69486721\n",
      "   10.90871211]\n",
      " [ 17.34935157  17.52141547   0.          87.10912696  69.34695379\n",
      "    7.68114575]\n",
      " [ 70.04998216 104.3120319   87.10912696   0.          21.23676058\n",
      "   94.21252571]\n",
      " [ 52.          86.69486721  69.34695379  21.23676058   0.\n",
      "   76.26270386]\n",
      " [ 24.41311123  10.90871211   7.68114575  94.21252571  76.26270386\n",
      "    0.        ]]\n"
     ]
    }
   ],
   "source": [
    "# build a dissimilarity matrix\n",
    "dissimilarity_matrix = np.zeros((nb_players, nb_players))\n",
    "print(\"compute dissimilarities\")\n",
    "for player_1_id in range(nb_players):\n",
    "    for player_2_id in range(nb_players):\n",
    "        dissimilarity = compute_dissimilarity(player_1_id, player_2_id)\n",
    "        dissimilarity_matrix[player_1_id, player_2_id] = dissimilarity\n",
    "\n",
    "print(\"dissimilarity matrix\")\n",
    "print(dissimilarity_matrix)"
   ]
  },
  {
   "cell_type": "code",
   "execution_count": 13,
   "metadata": {},
   "outputs": [
    {
     "data": {
      "text/plain": [
       "'images/complex_data_threshold_3.pdf'"
      ]
     },
     "execution_count": 13,
     "metadata": {},
     "output_type": "execute_result"
    }
   ],
   "source": [
    "threshold = 3\n",
    "# build a graph from the dissimilarity\n",
    "dot = Graph(comment='Graph created from complex data',\n",
    "            strict=True)\n",
    "for player_id in range(nb_players):\n",
    "    player_name = dataframe.loc[player_id][0]\n",
    "    dot.node(player_name)\n",
    "\n",
    "for player_1_id in range(nb_players):\n",
    "    # we use an undirected graph so we do not need\n",
    "    # to take the potential reciprocal edge\n",
    "    # into account\n",
    "    for player_2_id in range(nb_players):\n",
    "        # no self loops\n",
    "        if not player_1_id == player_2_id:\n",
    "            player_1_name = dataframe.loc[player_1_id][0]\n",
    "            player_2_name = dataframe.loc[player_2_id][0]\n",
    "            # use the threshold condition\n",
    "            if dissimilarity_matrix[player_1_id, player_2_id] > threshold:\n",
    "                dot.edge(player_1_name,\n",
    "                         player_2_name,\n",
    "                         color='darkolivegreen4',\n",
    "                         penwidth='1.1')\n",
    "\n",
    "# visualize the graph\n",
    "dot.attr(label=f\"threshold {threshold}\", fontsize='20')\n",
    "graph_name = f\"images/complex_data_threshold_{threshold}\"\n",
    "dot.render(graph_name)"
   ]
  },
  {
   "cell_type": "code",
   "execution_count": 14,
   "metadata": {},
   "outputs": [
    {
     "data": {
      "image/svg+xml": [
       "<?xml version=\"1.0\" encoding=\"UTF-8\" standalone=\"no\"?>\n",
       "<!DOCTYPE svg PUBLIC \"-//W3C//DTD SVG 1.1//EN\"\n",
       " \"http://www.w3.org/Graphics/SVG/1.1/DTD/svg11.dtd\">\n",
       "<!-- Generated by graphviz version 8.1.0 (20230707.0739)\n",
       " -->\n",
       "<!-- Pages: 1 -->\n",
       "<svg width=\"344pt\" height=\"435pt\"\n",
       " viewBox=\"0.00 0.00 343.73 434.50\" xmlns=\"http://www.w3.org/2000/svg\" xmlns:xlink=\"http://www.w3.org/1999/xlink\">\n",
       "<g id=\"graph0\" class=\"graph\" transform=\"scale(1 1) rotate(0) translate(4 430.5)\">\n",
       "<polygon fill=\"white\" stroke=\"none\" points=\"-4,4 -4,-430.5 339.73,-430.5 339.73,4 -4,4\"/>\n",
       "<text text-anchor=\"middle\" x=\"167.87\" y=\"-7.5\" font-family=\"Times,serif\" font-size=\"20.00\">threshold 3</text>\n",
       "<!-- Toni Kroos -->\n",
       "<g id=\"node1\" class=\"node\">\n",
       "<title>Toni Kroos</title>\n",
       "<ellipse fill=\"none\" stroke=\"black\" cx=\"141\" cy=\"-408.5\" rx=\"53.4\" ry=\"18\"/>\n",
       "<text text-anchor=\"middle\" x=\"141\" y=\"-403.45\" font-family=\"Times,serif\" font-size=\"14.00\">Toni Kroos</text>\n",
       "</g>\n",
       "<!-- David De Gea -->\n",
       "<g id=\"node2\" class=\"node\">\n",
       "<title>David De Gea</title>\n",
       "<ellipse fill=\"none\" stroke=\"black\" cx=\"141\" cy=\"-336.5\" rx=\"64.15\" ry=\"18\"/>\n",
       "<text text-anchor=\"middle\" x=\"141\" y=\"-331.45\" font-family=\"Times,serif\" font-size=\"14.00\">David De Gea</text>\n",
       "</g>\n",
       "<!-- Toni Kroos&#45;&#45;David De Gea -->\n",
       "<g id=\"edge1\" class=\"edge\">\n",
       "<title>Toni Kroos&#45;&#45;David De Gea</title>\n",
       "<path fill=\"none\" stroke=\"#6e8b3d\" stroke-width=\"1.1\" d=\"M141,-390.2C141,-379.35 141,-365.42 141,-354.6\"/>\n",
       "</g>\n",
       "<!-- Sergio Ramos -->\n",
       "<g id=\"node3\" class=\"node\">\n",
       "<title>Sergio Ramos</title>\n",
       "<ellipse fill=\"none\" stroke=\"black\" cx=\"244\" cy=\"-264.5\" rx=\"63.63\" ry=\"18\"/>\n",
       "<text text-anchor=\"middle\" x=\"244\" y=\"-259.45\" font-family=\"Times,serif\" font-size=\"14.00\">Sergio Ramos</text>\n",
       "</g>\n",
       "<!-- Toni Kroos&#45;&#45;Sergio Ramos -->\n",
       "<g id=\"edge2\" class=\"edge\">\n",
       "<title>Toni Kroos&#45;&#45;Sergio Ramos</title>\n",
       "<path fill=\"none\" stroke=\"#6e8b3d\" stroke-width=\"1.1\" d=\"M168.95,-392.9C184.16,-383.69 202.22,-370.53 214,-354.5 230.03,-332.69 237.89,-301.74 241.43,-282.68\"/>\n",
       "</g>\n",
       "<!-- Kikyan Mbappé -->\n",
       "<g id=\"node4\" class=\"node\">\n",
       "<title>Kikyan Mbappé</title>\n",
       "<ellipse fill=\"none\" stroke=\"black\" cx=\"251\" cy=\"-192.5\" rx=\"71.31\" ry=\"18\"/>\n",
       "<text text-anchor=\"middle\" x=\"251\" y=\"-187.45\" font-family=\"Times,serif\" font-size=\"14.00\">Kikyan Mbappé</text>\n",
       "</g>\n",
       "<!-- Toni Kroos&#45;&#45;Kikyan Mbappé -->\n",
       "<g id=\"edge3\" class=\"edge\">\n",
       "<title>Toni Kroos&#45;&#45;Kikyan Mbappé</title>\n",
       "<path fill=\"none\" stroke=\"#6e8b3d\" stroke-width=\"1.1\" d=\"M176.88,-394.95C220.22,-377.52 290.59,-341.3 317,-282.5 323.55,-267.9 323.92,-260.93 317,-246.5 309.44,-230.73 294.65,-218.17 280.98,-209.24\"/>\n",
       "</g>\n",
       "<!-- Mohammed Salah -->\n",
       "<g id=\"node5\" class=\"node\">\n",
       "<title>Mohammed Salah</title>\n",
       "<ellipse fill=\"none\" stroke=\"black\" cx=\"184\" cy=\"-120.5\" rx=\"80.01\" ry=\"18\"/>\n",
       "<text text-anchor=\"middle\" x=\"184\" y=\"-115.45\" font-family=\"Times,serif\" font-size=\"14.00\">Mohammed Salah</text>\n",
       "</g>\n",
       "<!-- Toni Kroos&#45;&#45;Mohammed Salah -->\n",
       "<g id=\"edge4\" class=\"edge\">\n",
       "<title>Toni Kroos&#45;&#45;Mohammed Salah</title>\n",
       "<path fill=\"none\" stroke=\"#6e8b3d\" stroke-width=\"1.1\" d=\"M109.82,-393.56C94.22,-384.78 76.82,-371.8 68,-354.5 60.73,-340.25 63.9,-333.97 68,-318.5 87.5,-244.83 143,-170.85 169.53,-138.47\"/>\n",
       "</g>\n",
       "<!-- Mats Hummels -->\n",
       "<g id=\"node6\" class=\"node\">\n",
       "<title>Mats Hummels</title>\n",
       "<ellipse fill=\"none\" stroke=\"black\" cx=\"184\" cy=\"-48.5\" rx=\"69.26\" ry=\"18\"/>\n",
       "<text text-anchor=\"middle\" x=\"184\" y=\"-43.45\" font-family=\"Times,serif\" font-size=\"14.00\">Mats Hummels</text>\n",
       "</g>\n",
       "<!-- Toni Kroos&#45;&#45;Mats Hummels -->\n",
       "<g id=\"edge5\" class=\"edge\">\n",
       "<title>Toni Kroos&#45;&#45;Mats Hummels</title>\n",
       "<path fill=\"none\" stroke=\"#6e8b3d\" stroke-width=\"1.1\" d=\"M110.06,-393.39C68.55,-372.09 0,-327.51 0,-265.5 0,-265.5 0,-265.5 0,-191.5 0,-121.49 84.52,-81.15 138.99,-62.42\"/>\n",
       "</g>\n",
       "<!-- David De Gea&#45;&#45;Sergio Ramos -->\n",
       "<g id=\"edge6\" class=\"edge\">\n",
       "<title>David De Gea&#45;&#45;Sergio Ramos</title>\n",
       "<path fill=\"none\" stroke=\"#6e8b3d\" stroke-width=\"1.1\" d=\"M164.63,-319.44C181.38,-308.06 203.76,-292.85 220.48,-281.48\"/>\n",
       "</g>\n",
       "<!-- David De Gea&#45;&#45;Kikyan Mbappé -->\n",
       "<g id=\"edge7\" class=\"edge\">\n",
       "<title>David De Gea&#45;&#45;Kikyan Mbappé</title>\n",
       "<path fill=\"none\" stroke=\"#6e8b3d\" stroke-width=\"1.1\" d=\"M143.4,-318.19C146.79,-299.01 154.5,-267.96 171,-246.5 183.29,-230.52 201.83,-217.8 217.97,-208.84\"/>\n",
       "</g>\n",
       "<!-- David De Gea&#45;&#45;Mohammed Salah -->\n",
       "<g id=\"edge8\" class=\"edge\">\n",
       "<title>David De Gea&#45;&#45;Mohammed Salah</title>\n",
       "<path fill=\"none\" stroke=\"#6e8b3d\" stroke-width=\"1.1\" d=\"M141.57,-318.24C142.91,-288.39 147.39,-225.44 162,-174.5 165.52,-162.24 171.02,-148.99 175.64,-138.81\"/>\n",
       "</g>\n",
       "<!-- David De Gea&#45;&#45;Mats Hummels -->\n",
       "<g id=\"edge9\" class=\"edge\">\n",
       "<title>David De Gea&#45;&#45;Mats Hummels</title>\n",
       "<path fill=\"none\" stroke=\"#6e8b3d\" stroke-width=\"1.1\" d=\"M130.23,-318.44C106.28,-278.12 53.84,-174.91 95,-102.5 105.4,-84.21 124.88,-71.56 142.97,-63.23\"/>\n",
       "</g>\n",
       "<!-- Sergio Ramos&#45;&#45;Kikyan Mbappé -->\n",
       "<g id=\"edge10\" class=\"edge\">\n",
       "<title>Sergio Ramos&#45;&#45;Kikyan Mbappé</title>\n",
       "<path fill=\"none\" stroke=\"#6e8b3d\" stroke-width=\"1.1\" d=\"M245.73,-246.2C246.82,-235.35 248.21,-221.42 249.29,-210.6\"/>\n",
       "</g>\n",
       "<!-- Sergio Ramos&#45;&#45;Mohammed Salah -->\n",
       "<g id=\"edge11\" class=\"edge\">\n",
       "<title>Sergio Ramos&#45;&#45;Mohammed Salah</title>\n",
       "<path fill=\"none\" stroke=\"#6e8b3d\" stroke-width=\"1.1\" d=\"M211.31,-248.7C196.11,-239.94 179.54,-227.24 171,-210.5 159.37,-187.68 167.98,-157.58 175.66,-138.88\"/>\n",
       "</g>\n",
       "<!-- Sergio Ramos&#45;&#45;Mats Hummels -->\n",
       "<g id=\"edge12\" class=\"edge\">\n",
       "<title>Sergio Ramos&#45;&#45;Mats Hummels</title>\n",
       "<path fill=\"none\" stroke=\"#6e8b3d\" stroke-width=\"1.1\" d=\"M283.22,-249.98C301.17,-241.59 320.69,-228.85 331,-210.5 338.84,-196.55 335.18,-189.95 331,-174.5 321.33,-138.74 315.98,-127.89 289,-102.5 270.64,-85.22 245.55,-72.27 224.51,-63.51\"/>\n",
       "</g>\n",
       "<!-- Kikyan Mbappé&#45;&#45;Mohammed Salah -->\n",
       "<g id=\"edge13\" class=\"edge\">\n",
       "<title>Kikyan Mbappé&#45;&#45;Mohammed Salah</title>\n",
       "<path fill=\"none\" stroke=\"#6e8b3d\" stroke-width=\"1.1\" d=\"M234.78,-174.55C224.25,-163.55 210.57,-149.26 200.07,-138.29\"/>\n",
       "</g>\n",
       "<!-- Kikyan Mbappé&#45;&#45;Mats Hummels -->\n",
       "<g id=\"edge14\" class=\"edge\">\n",
       "<title>Kikyan Mbappé&#45;&#45;Mats Hummels</title>\n",
       "<path fill=\"none\" stroke=\"#6e8b3d\" stroke-width=\"1.1\" d=\"M262.28,-174.41C273.09,-155.7 285.98,-125.33 273,-102.5 262.6,-84.21 243.12,-71.56 225.03,-63.23\"/>\n",
       "</g>\n",
       "<!-- Mohammed Salah&#45;&#45;Mats Hummels -->\n",
       "<g id=\"edge15\" class=\"edge\">\n",
       "<title>Mohammed Salah&#45;&#45;Mats Hummels</title>\n",
       "<path fill=\"none\" stroke=\"#6e8b3d\" stroke-width=\"1.1\" d=\"M184,-102.2C184,-91.35 184,-77.42 184,-66.6\"/>\n",
       "</g>\n",
       "</g>\n",
       "</svg>\n"
      ],
      "text/plain": [
       "<graphviz.graphs.Graph at 0x117c5dbd0>"
      ]
     },
     "execution_count": 14,
     "metadata": {},
     "output_type": "execute_result"
    }
   ],
   "source": [
    "dot"
   ]
  },
  {
   "cell_type": "code",
   "execution_count": null,
   "metadata": {},
   "outputs": [],
   "source": []
  }
 ],
 "metadata": {
  "kernelspec": {
   "display_name": "Python 3 (ipykernel)",
   "language": "python",
   "name": "python3"
  },
  "language_info": {
   "codemirror_mode": {
    "name": "ipython",
    "version": 3
   },
   "file_extension": ".py",
   "mimetype": "text/x-python",
   "name": "python",
   "nbconvert_exporter": "python",
   "pygments_lexer": "ipython3",
   "version": "3.11.7"
  }
 },
 "nbformat": 4,
 "nbformat_minor": 4
}
