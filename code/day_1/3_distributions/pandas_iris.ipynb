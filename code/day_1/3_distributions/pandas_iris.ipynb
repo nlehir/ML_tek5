{
 "cells": [
  {
   "cell_type": "code",
   "execution_count": null,
   "id": "e3951cb7-7777-466f-8fa0-b12399a70c1c",
   "metadata": {},
   "outputs": [],
   "source": [
    "import pandas as pd\n",
    "from sklearn.datasets import load_iris"
   ]
  },
  {
   "cell_type": "code",
   "execution_count": null,
   "id": "bc60709f-2e16-47df-be07-5acb81384bb1",
   "metadata": {},
   "outputs": [],
   "source": [
    "data = load_iris()"
   ]
  },
  {
   "cell_type": "code",
   "execution_count": null,
   "id": "2ae8bdca-db88-4c13-9d2d-e5c5bad3b2b0",
   "metadata": {},
   "outputs": [],
   "source": [
    "dir(data)"
   ]
  },
  {
   "cell_type": "code",
   "execution_count": null,
   "id": "02c9b8d7-c07a-40be-8327-3a8ef33fe459",
   "metadata": {},
   "outputs": [],
   "source": [
    "X = data.data\n",
    "y = data.target"
   ]
  },
  {
   "cell_type": "code",
   "execution_count": null,
   "id": "05989942-6c29-494c-be12-ba63834d9507",
   "metadata": {},
   "outputs": [],
   "source": [
    "print(data.DESCR)"
   ]
  },
  {
   "cell_type": "code",
   "execution_count": null,
   "id": "6bdd7d60-7598-40df-9f23-db6fa7ab0e5c",
   "metadata": {},
   "outputs": [],
   "source": [
    "data.filename"
   ]
  },
  {
   "cell_type": "code",
   "execution_count": null,
   "id": "538f3347-811e-483b-9379-9191d6948204",
   "metadata": {},
   "outputs": [],
   "source": [
    "df = pd.DataFrame(X)"
   ]
  },
  {
   "cell_type": "code",
   "execution_count": null,
   "id": "4885bf93-94fd-40c1-8683-f34f0a84d3e5",
   "metadata": {},
   "outputs": [],
   "source": [
    "df"
   ]
  },
  {
   "cell_type": "code",
   "execution_count": null,
   "id": "0562237c-0a68-45c7-a301-d1a8a90f8697",
   "metadata": {},
   "outputs": [],
   "source": [
    "df.mean()"
   ]
  },
  {
   "cell_type": "code",
   "execution_count": null,
   "id": "df416f50-797b-433e-a8de-533f874aba1f",
   "metadata": {},
   "outputs": [],
   "source": [
    "df.corr()"
   ]
  },
  {
   "cell_type": "code",
   "execution_count": null,
   "id": "5dc8b528-0d00-4799-b8b7-d221b6aac897",
   "metadata": {},
   "outputs": [],
   "source": [
    "df.std()"
   ]
  },
  {
   "cell_type": "code",
   "execution_count": null,
   "id": "d8f82a2b-03b5-4f79-aa40-5b4ed3f28ed3",
   "metadata": {},
   "outputs": [],
   "source": [
    "df.columns"
   ]
  },
  {
   "cell_type": "code",
   "execution_count": null,
   "id": "6c9c6eb4-82dc-4c08-8a63-9ba13cb5b3b7",
   "metadata": {},
   "outputs": [],
   "source": [
    "df[2]"
   ]
  },
  {
   "cell_type": "code",
   "execution_count": null,
   "id": "00f5efc7-2661-4d8c-bc25-f9345ee19abd",
   "metadata": {},
   "outputs": [],
   "source": [
    "df"
   ]
  }
 ],
 "metadata": {
  "kernelspec": {
   "display_name": "Python 3 (ipykernel)",
   "language": "python",
   "name": "python3"
  },
  "language_info": {
   "codemirror_mode": {
    "name": "ipython",
    "version": 3
   },
   "file_extension": ".py",
   "mimetype": "text/x-python",
   "name": "python",
   "nbconvert_exporter": "python",
   "pygments_lexer": "ipython3",
   "version": "3.11.0"
  }
 },
 "nbformat": 4,
 "nbformat_minor": 5
}
