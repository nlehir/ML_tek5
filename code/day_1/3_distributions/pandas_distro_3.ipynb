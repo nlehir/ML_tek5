{
 "cells": [
  {
   "cell_type": "code",
   "execution_count": 1,
   "id": "867104e0-5c2d-4edb-917e-eb56e82385e9",
   "metadata": {},
   "outputs": [],
   "source": [
    "import pandas as pd"
   ]
  },
  {
   "cell_type": "code",
   "execution_count": 3,
   "id": "4c40a53c-a46b-480e-84e5-5d96d3084f81",
   "metadata": {},
   "outputs": [],
   "source": [
    "df = pd.read_csv(\"csv_files/distribution_3.csv\")"
   ]
  },
  {
   "cell_type": "code",
   "execution_count": 5,
   "id": "23ca0cf2-0947-4915-859b-170f45f4a48a",
   "metadata": {},
   "outputs": [
    {
     "data": {
      "text/html": [
       "<div>\n",
       "<style scoped>\n",
       "    .dataframe tbody tr th:only-of-type {\n",
       "        vertical-align: middle;\n",
       "    }\n",
       "\n",
       "    .dataframe tbody tr th {\n",
       "        vertical-align: top;\n",
       "    }\n",
       "\n",
       "    .dataframe thead th {\n",
       "        text-align: right;\n",
       "    }\n",
       "</style>\n",
       "<table border=\"1\" class=\"dataframe\">\n",
       "  <thead>\n",
       "    <tr style=\"text-align: right;\">\n",
       "      <th></th>\n",
       "      <th>1</th>\n",
       "      <th>2.937395903048202</th>\n",
       "      <th>13.352454727770555</th>\n",
       "      <th>3.2717390508610045</th>\n",
       "      <th>-4.265398613415378</th>\n",
       "      <th>-5.00663874329542</th>\n",
       "    </tr>\n",
       "  </thead>\n",
       "  <tbody>\n",
       "    <tr>\n",
       "      <th>1</th>\n",
       "      <td>1.000000</td>\n",
       "      <td>-0.026850</td>\n",
       "      <td>-0.124665</td>\n",
       "      <td>-0.001167</td>\n",
       "      <td>0.020691</td>\n",
       "      <td>0.109490</td>\n",
       "    </tr>\n",
       "    <tr>\n",
       "      <th>2.937395903048202</th>\n",
       "      <td>-0.026850</td>\n",
       "      <td>1.000000</td>\n",
       "      <td>-0.009110</td>\n",
       "      <td>0.683293</td>\n",
       "      <td>-0.011035</td>\n",
       "      <td>-0.025338</td>\n",
       "    </tr>\n",
       "    <tr>\n",
       "      <th>13.352454727770555</th>\n",
       "      <td>-0.124665</td>\n",
       "      <td>-0.009110</td>\n",
       "      <td>1.000000</td>\n",
       "      <td>-0.036652</td>\n",
       "      <td>0.015958</td>\n",
       "      <td>-0.778856</td>\n",
       "    </tr>\n",
       "    <tr>\n",
       "      <th>3.2717390508610045</th>\n",
       "      <td>-0.001167</td>\n",
       "      <td>0.683293</td>\n",
       "      <td>-0.036652</td>\n",
       "      <td>1.000000</td>\n",
       "      <td>-0.044159</td>\n",
       "      <td>0.463333</td>\n",
       "    </tr>\n",
       "    <tr>\n",
       "      <th>-4.265398613415378</th>\n",
       "      <td>0.020691</td>\n",
       "      <td>-0.011035</td>\n",
       "      <td>0.015958</td>\n",
       "      <td>-0.044159</td>\n",
       "      <td>1.000000</td>\n",
       "      <td>-0.043103</td>\n",
       "    </tr>\n",
       "    <tr>\n",
       "      <th>-5.00663874329542</th>\n",
       "      <td>0.109490</td>\n",
       "      <td>-0.025338</td>\n",
       "      <td>-0.778856</td>\n",
       "      <td>0.463333</td>\n",
       "      <td>-0.043103</td>\n",
       "      <td>1.000000</td>\n",
       "    </tr>\n",
       "  </tbody>\n",
       "</table>\n",
       "</div>"
      ],
      "text/plain": [
       "                           1  2.937395903048202  13.352454727770555  \\\n",
       "1                   1.000000          -0.026850           -0.124665   \n",
       "2.937395903048202  -0.026850           1.000000           -0.009110   \n",
       "13.352454727770555 -0.124665          -0.009110            1.000000   \n",
       "3.2717390508610045 -0.001167           0.683293           -0.036652   \n",
       "-4.265398613415378  0.020691          -0.011035            0.015958   \n",
       "-5.00663874329542   0.109490          -0.025338           -0.778856   \n",
       "\n",
       "                    3.2717390508610045  -4.265398613415378  -5.00663874329542  \n",
       "1                            -0.001167            0.020691           0.109490  \n",
       "2.937395903048202             0.683293           -0.011035          -0.025338  \n",
       "13.352454727770555           -0.036652            0.015958          -0.778856  \n",
       "3.2717390508610045            1.000000           -0.044159           0.463333  \n",
       "-4.265398613415378           -0.044159            1.000000          -0.043103  \n",
       "-5.00663874329542             0.463333           -0.043103           1.000000  "
      ]
     },
     "execution_count": 5,
     "metadata": {},
     "output_type": "execute_result"
    }
   ],
   "source": [
    "df.corr()"
   ]
  },
  {
   "cell_type": "code",
   "execution_count": 6,
   "id": "a274e0d8-1685-4c9b-babe-9c7a220a7aaf",
   "metadata": {},
   "outputs": [
    {
     "data": {
      "text/plain": [
       "1                     500.500000\n",
       "2.937395903048202       3.999888\n",
       "13.352454727770555     14.873234\n",
       "3.2717390508610045      3.954635\n",
       "-4.265398613415378     -5.039707\n",
       "-5.00663874329542      -5.994546\n",
       "dtype: float64"
      ]
     },
     "execution_count": 6,
     "metadata": {},
     "output_type": "execute_result"
    }
   ],
   "source": [
    "df.mean()"
   ]
  },
  {
   "cell_type": "code",
   "execution_count": 8,
   "id": "85a1b5fd-f462-4309-8cc9-97f30c5eb7e4",
   "metadata": {},
   "outputs": [
    {
     "data": {
      "text/plain": [
       "1                     288.242086\n",
       "2.937395903048202       0.968695\n",
       "13.352454727770555      2.946667\n",
       "3.2717390508610045      1.343930\n",
       "-4.265398613415378      2.013248\n",
       "-5.00663874329542       1.565243\n",
       "dtype: float64"
      ]
     },
     "execution_count": 8,
     "metadata": {},
     "output_type": "execute_result"
    }
   ],
   "source": [
    "df.std()"
   ]
  }
 ],
 "metadata": {
  "kernelspec": {
   "display_name": "Python 3 (ipykernel)",
   "language": "python",
   "name": "python3"
  },
  "language_info": {
   "codemirror_mode": {
    "name": "ipython",
    "version": 3
   },
   "file_extension": ".py",
   "mimetype": "text/x-python",
   "name": "python",
   "nbconvert_exporter": "python",
   "pygments_lexer": "ipython3",
   "version": "3.11.0"
  }
 },
 "nbformat": 4,
 "nbformat_minor": 5
}
